{
 "cells": [
  {
   "cell_type": "code",
   "execution_count": 4,
   "metadata": {},
   "outputs": [
    {
     "name": "stdout",
     "output_type": "stream",
     "text": [
      "1.13.1\n",
      "4.2.0\n"
     ]
    }
   ],
   "source": [
    "import cv2\n",
    "import numpy as np \n",
    "import time \n",
    "\n",
    "print(np.__version__)\n",
    "print(cv2.__version__)"
   ]
  },
  {
   "cell_type": "markdown",
   "metadata": {},
   "source": [
    "#### 1. Open webcam, capture 10 frames and output as .png images"
   ]
  },
  {
   "cell_type": "code",
   "execution_count": 12,
   "metadata": {},
   "outputs": [
    {
     "name": "stdout",
     "output_type": "stream",
     "text": [
      "hello\n",
      "hello\n",
      "opencv_frame_0.png written!\n",
      "opencv_frame_1.png written!\n",
      "opencv_frame_2.png written!\n",
      "opencv_frame_3.png written!\n",
      "opencv_frame_4.png written!\n",
      "opencv_frame_5.png written!\n",
      "opencv_frame_6.png written!\n",
      "opencv_frame_7.png written!\n",
      "opencv_frame_8.png written!\n",
      "opencv_frame_9.png written!\n",
      "opencv_frame_10.png written!\n",
      "Releasing\n"
     ]
    }
   ],
   "source": [
    "cam = cv2.VideoCapture(0)\n",
    "   \n",
    "img_counter = 0\n",
    "\n",
    "while img_counter<=10:\n",
    "    ret, frame = cam.read()\n",
    "    if not ret: \n",
    "        print(\"failed to grab frame\")   \n",
    "        break\n",
    "    #cv2.imshow(\"test\", frame)\n",
    "\n",
    "    # SPACE pressed\n",
    "    img_name = \"opencv_frame_{}.png\".format(img_counter)\n",
    "    cv2.imwrite(img_name, frame)\n",
    "    print(\"{} written!\".format(img_name))\n",
    "    img_counter += 1\n",
    "\n",
    "print(\"Releasing\")\n",
    "cam.release()\n",
    "\n",
    "cv2.destroyAllWindows()"
   ]
  },
  {
   "cell_type": "markdown",
   "metadata": {},
   "source": [
    "#### 2. Invisibility cloak, detect red and swap with background. \n",
    "\n",
    "capture background first and then swap with foreground's color of choice.  "
   ]
  },
  {
   "cell_type": "code",
   "execution_count": 3,
   "metadata": {},
   "outputs": [
    {
     "name": "stdout",
     "output_type": "stream",
     "text": [
      "4.2.0\n",
      "Hello1\n",
      "('Frame shape', (720, 1080, 3))\n",
      "(1080, 720)\n",
      "Finished\n"
     ]
    }
   ],
   "source": [
    "import cv2 \n",
    "\n",
    "\n",
    "# replace the red pixels ( or undesired area ) with \n",
    "# background pixels to generate the invisibility feature. \n",
    "\n",
    "## 1. Hue: This channel encodes color information. Hue can be \n",
    "# thought of an angle where 0 degree corresponds to the red color, \n",
    "# 120 degrees corresponds to the green color, and 240 degrees \n",
    "# corresponds to the blue color. \n",
    "\n",
    "## 2. Saturation: This channel encodes the intensity/purity of color. \n",
    "# For example, pink is less saturated than red. \n",
    "\n",
    "## 3. Value: This channel encodes the brightness of color. \n",
    "# Shading and gloss components of an image appear in this \n",
    "# channel reading the videocapture video \n",
    "\n",
    "# taking video.mp4 as input. \n",
    "# Make your path according to your needs \n",
    "capture_video = cv2.VideoCapture(\"red_video.mp4\") \n",
    "\t\n",
    "# give the camera to warm up \n",
    "time.sleep(1) \n",
    "count = 0\n",
    "background = 0\n",
    "\n",
    "\n",
    "fourcc = cv2.VideoWriter_fourcc('M', 'J', 'P', 'G')\n",
    "out = cv2.VideoWriter('output_new.avi',fourcc, 20.0, (int(capture_video.get(3)),int(capture_video.get(4))))\n",
    "\n",
    "# capturing the background in range of 60 \n",
    "# you should have video that have some seconds \n",
    "# dedicated to background frame so that it \n",
    "# could easily save the background image \n",
    "for i in range(60): \n",
    "\treturn_val, background = capture_video.read() \n",
    "\tif return_val == False : \n",
    "\t\tcontinue\n",
    "\n",
    "print(\"Hello1\")\n",
    "background = np.flip(background, axis = 1) # flipping of the frame \n",
    "# we are reading from video \n",
    "while (capture_video.isOpened()): \n",
    "\treturn_val, img = capture_video.read() \n",
    "\tif not return_val : \n",
    "\t\tbreak\n",
    "\tcount = count + 1\n",
    "\timg = np.flip(img, axis = 1) \n",
    "\thsv = cv2.cvtColor(img, cv2.COLOR_BGR2HSV) \n",
    "\n",
    "\t#-------------------------------------BLOCK----------------------------# \n",
    "\t# ranges should be carefully chosen \n",
    "\t# setting the lower and upper range for mask1 \n",
    "\tlower_red = np.array([100, 40, 40])\t \n",
    "\tupper_red = np.array([100, 255, 255]) \n",
    "\tmask1 = cv2.inRange(hsv, lower_red, upper_red) \n",
    "\t# setting the lower and upper range for mask2 \n",
    "\tlower_red = np.array([155, 40, 40]) \n",
    "\tupper_red = np.array([180, 255, 255]) \n",
    "\tmask2 = cv2.inRange(hsv, lower_red, upper_red) \n",
    "\t#----------------------------------------------------------------------# \n",
    "\t# the above block of code could be replaced with \n",
    "\t# some other code depending upon the color of your cloth \n",
    "\tmask1 = mask1 + mask2 \n",
    "\n",
    "\t# Refining the mask corresponding to the detected red color \n",
    "\tmask1 = cv2.morphologyEx(mask1, cv2.MORPH_OPEN, np.ones((3, 3), \n",
    "\t\t\t\t\t\t\t\t\t\tnp.uint8), iterations = 2) \n",
    "\tmask1 = cv2.dilate(mask1, np.ones((3, 3), np.uint8), iterations = 1) \n",
    "\tmask2 = cv2.bitwise_not(mask1) \n",
    "\n",
    "\t# Generating the final output \n",
    "\tres1 = cv2.bitwise_and(background, background, mask = mask1) \n",
    "\tres2 = cv2.bitwise_and(img, img, mask = mask2) \n",
    "\tfinal_output = cv2.addWeighted(res1, 1, res2, 1, 0) \n",
    "\tout.write(final_output)\n",
    "print(\"Frame shape\", final_output.shape)\n",
    "print((int(capture_video.get(3)),int(capture_video.get(4))))\n",
    "print(\"Finished\")"
   ]
  },
  {
   "cell_type": "markdown",
   "metadata": {},
   "source": [
    "#### References\n",
    "\n",
    "https://www.geeksforgeeks.org/invisible-cloak-using-opencv-python-project/"
   ]
  },
  {
   "cell_type": "code",
   "execution_count": null,
   "metadata": {
    "collapsed": true
   },
   "outputs": [],
   "source": []
  }
 ],
 "metadata": {
  "kernelspec": {
   "display_name": "Python 2",
   "language": "python",
   "name": "python2"
  },
  "language_info": {
   "codemirror_mode": {
    "name": "ipython",
    "version": 2
   },
   "file_extension": ".py",
   "mimetype": "text/x-python",
   "name": "python",
   "nbconvert_exporter": "python",
   "pygments_lexer": "ipython2",
   "version": "2.7.13"
  }
 },
 "nbformat": 4,
 "nbformat_minor": 2
}
